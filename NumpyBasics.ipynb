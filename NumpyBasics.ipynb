{
 "cells": [
  {
   "cell_type": "code",
   "execution_count": 1,
   "id": "0a5391fa",
   "metadata": {},
   "outputs": [],
   "source": [
    "import numpy as np"
   ]
  },
  {
   "cell_type": "code",
   "execution_count": 2,
   "id": "1927f39f",
   "metadata": {},
   "outputs": [
    {
     "data": {
      "text/plain": [
       "array([[1, 2, 3],\n",
       "       [2, 5, 3]])"
      ]
     },
     "execution_count": 2,
     "metadata": {},
     "output_type": "execute_result"
    }
   ],
   "source": [
    "arr = np.array([[1,2,3],[2,5,3]])\n",
    "arr"
   ]
  },
  {
   "cell_type": "code",
   "execution_count": 3,
   "id": "8843b10f",
   "metadata": {},
   "outputs": [
    {
     "name": "stdout",
     "output_type": "stream",
     "text": [
      "2\n"
     ]
    }
   ],
   "source": [
    "print(arr.ndim)"
   ]
  },
  {
   "cell_type": "code",
   "execution_count": 4,
   "id": "1f450873",
   "metadata": {},
   "outputs": [
    {
     "name": "stdout",
     "output_type": "stream",
     "text": [
      "(2, 3)\n"
     ]
    }
   ],
   "source": [
    "print(arr.shape)"
   ]
  },
  {
   "cell_type": "code",
   "execution_count": 5,
   "id": "ec63afca",
   "metadata": {},
   "outputs": [
    {
     "name": "stdout",
     "output_type": "stream",
     "text": [
      "<class 'numpy.ndarray'>\n"
     ]
    }
   ],
   "source": [
    "print(type(arr))"
   ]
  },
  {
   "cell_type": "code",
   "execution_count": 6,
   "id": "88c352b8",
   "metadata": {},
   "outputs": [
    {
     "name": "stdout",
     "output_type": "stream",
     "text": [
      "<memory at 0x000001FB89B05E10>\n"
     ]
    }
   ],
   "source": [
    "print(arr.data)"
   ]
  },
  {
   "cell_type": "markdown",
   "id": "6e71a1c2",
   "metadata": {},
   "source": [
    "# Statistical Funcitions"
   ]
  },
  {
   "cell_type": "code",
   "execution_count": 44,
   "id": "4807f27e",
   "metadata": {},
   "outputs": [
    {
     "name": "stdout",
     "output_type": "stream",
     "text": [
      "[[20 32 11]\n",
      " [ 3  4  5]\n",
      " [ 7  4  4]] \n",
      "\n"
     ]
    }
   ],
   "source": [
    "b = np.array([[20,32,11],[3,4,5],[7,4,4]])\n",
    "print(b,\"\\n\")"
   ]
  },
  {
   "cell_type": "code",
   "execution_count": 8,
   "id": "16efcd69",
   "metadata": {},
   "outputs": [
    {
     "data": {
      "text/plain": [
       "dtype('int32')"
      ]
     },
     "execution_count": 8,
     "metadata": {},
     "output_type": "execute_result"
    }
   ],
   "source": [
    "b.dtype"
   ]
  },
  {
   "cell_type": "code",
   "execution_count": 9,
   "id": "79741154",
   "metadata": {},
   "outputs": [
    {
     "data": {
      "text/plain": [
       "4"
      ]
     },
     "execution_count": 9,
     "metadata": {},
     "output_type": "execute_result"
    }
   ],
   "source": [
    "b.itemsize"
   ]
  },
  {
   "cell_type": "code",
   "execution_count": 10,
   "id": "323264c8",
   "metadata": {},
   "outputs": [
    {
     "data": {
      "text/plain": [
       "9"
      ]
     },
     "execution_count": 10,
     "metadata": {},
     "output_type": "execute_result"
    }
   ],
   "source": [
    "b.size"
   ]
  },
  {
   "cell_type": "code",
   "execution_count": 11,
   "id": "d791b321",
   "metadata": {},
   "outputs": [
    {
     "data": {
      "text/plain": [
       "(3, 3)"
      ]
     },
     "execution_count": 11,
     "metadata": {},
     "output_type": "execute_result"
    }
   ],
   "source": [
    "b.shape"
   ]
  },
  {
   "cell_type": "code",
   "execution_count": 12,
   "id": "e921b34b",
   "metadata": {},
   "outputs": [
    {
     "name": "stdout",
     "output_type": "stream",
     "text": [
      "[[20 32 11]\n",
      " [ 3  4  5]\n",
      " [ 7  4  4]] \n",
      "\n",
      "int32 \n",
      "\n",
      "4\n"
     ]
    }
   ],
   "source": [
    "d = np.array([[20,32,11],[3,4,5],[7,4,4]], dtype=np.float64)\n",
    "print(b,\"\\n\")\n",
    "print(b.dtype,\"\\n\")\n",
    "print(b.itemsize)"
   ]
  },
  {
   "cell_type": "code",
   "execution_count": 13,
   "id": "54e3d858",
   "metadata": {},
   "outputs": [
    {
     "name": "stdout",
     "output_type": "stream",
     "text": [
      "[[1.+0.j 3.+0.j 4.+0.j]\n",
      " [3.+0.j 5.+0.j 6.+0.j]\n",
      " [3.+0.j 4.+0.j 7.+0.j]] \n",
      "\n",
      "complex64 \n",
      "\n",
      "8 \n",
      "\n",
      "[[13.+0.j 34.+0.j 84.+0.j]\n",
      " [54.+0.j 77.+0.j 90.+0.j]\n",
      " [ 1.+0.j  2.+0.j  3.+0.j]] \n",
      "\n",
      "complex128 \n",
      "\n",
      "16\n"
     ]
    }
   ],
   "source": [
    "x = np.array([[1,3,4],[3,5,6],[3,4,7]], dtype=np.complex64)\n",
    "y = np.array([[13,34,84],[54,77,90],[1,2,3]],dtype=np.complex128)\n",
    "print(x,\"\\n\")\n",
    "print(x.dtype,\"\\n\")\n",
    "print(x.itemsize,\"\\n\")\n",
    "print(y,\"\\n\")\n",
    "print(y.dtype,\"\\n\")\n",
    "print(y.itemsize)"
   ]
  },
  {
   "cell_type": "code",
   "execution_count": 14,
   "id": "3b91f53c",
   "metadata": {},
   "outputs": [
    {
     "name": "stdout",
     "output_type": "stream",
     "text": [
      "90\n"
     ]
    }
   ],
   "source": [
    "print(np.sum(b))"
   ]
  },
  {
   "cell_type": "code",
   "execution_count": 15,
   "id": "25deb6dd",
   "metadata": {},
   "outputs": [
    {
     "name": "stdout",
     "output_type": "stream",
     "text": [
      "[[20 32 11]\n",
      " [ 3  4  5]\n",
      " [ 7  4  4]]\n"
     ]
    }
   ],
   "source": [
    "print(b)"
   ]
  },
  {
   "cell_type": "code",
   "execution_count": 16,
   "id": "267c6433",
   "metadata": {},
   "outputs": [
    {
     "name": "stdout",
     "output_type": "stream",
     "text": [
      "[30 40 20]\n",
      "[63 12 15]\n"
     ]
    }
   ],
   "source": [
    "print(np.sum(b,axis=0))\n",
    "print(np.sum(b,axis=1))"
   ]
  },
  {
   "cell_type": "code",
   "execution_count": 17,
   "id": "7043a453",
   "metadata": {},
   "outputs": [],
   "source": [
    "# 0 for columns\n",
    "# 1 for rows"
   ]
  },
  {
   "cell_type": "code",
   "execution_count": 18,
   "id": "2eae64a9",
   "metadata": {},
   "outputs": [
    {
     "name": "stdout",
     "output_type": "stream",
     "text": [
      "[[20 32 11]\n",
      " [ 3  4  5]\n",
      " [ 7  4  4]] \n",
      "\n",
      "3 \n",
      "\n",
      "[3 4 4]\n",
      "[11  3  4]\n"
     ]
    }
   ],
   "source": [
    "# Minimum Value\n",
    "print(b,\"\\n\")\n",
    "print(np.amin(b),\"\\n\")\n",
    "print(np.amin(b,axis=0))\n",
    "print(np.amin(b,axis=1))"
   ]
  },
  {
   "cell_type": "code",
   "execution_count": 19,
   "id": "7783d9b0",
   "metadata": {},
   "outputs": [
    {
     "name": "stdout",
     "output_type": "stream",
     "text": [
      "[[20 32 11]\n",
      " [ 3  4  5]\n",
      " [ 7  4  4]] \n",
      "\n",
      "32 \n",
      "\n",
      "[20 32 11]\n",
      "[32  5  7] \n",
      "\n",
      "<class 'numpy.ndarray'>\n"
     ]
    }
   ],
   "source": [
    "# Maximum Value\n",
    "print(b,\"\\n\")\n",
    "print(np.max(b),\"\\n\")\n",
    "print(np.max(b,axis=0))\n",
    "print(np.max(b,axis=1),\"\\n\")\n",
    "print(type(b))"
   ]
  },
  {
   "cell_type": "code",
   "execution_count": 20,
   "id": "a07b8015",
   "metadata": {},
   "outputs": [
    {
     "name": "stdout",
     "output_type": "stream",
     "text": [
      "[[20 32 11]\n",
      " [ 3  4  5]\n",
      " [ 7  4  4]] \n",
      "\n",
      "10.0 \n",
      "\n",
      "[10.         13.33333333  6.66666667]\n",
      "[21.  4.  5.] \n",
      "\n",
      "<class 'numpy.ndarray'>\n"
     ]
    }
   ],
   "source": [
    "# Mean\n",
    "print(b,\"\\n\")\n",
    "print(np.mean(b),\"\\n\")\n",
    "print(np.mean(b,axis=0))\n",
    "print(np.mean(b,axis=1),\"\\n\")\n",
    "print(type(b))"
   ]
  },
  {
   "cell_type": "code",
   "execution_count": 21,
   "id": "01a1e7a1",
   "metadata": {},
   "outputs": [
    {
     "name": "stdout",
     "output_type": "stream",
     "text": [
      "[[20 32 11]\n",
      " [ 3  4  5]\n",
      " [ 7  4  4]] \n",
      "\n",
      "9.285592184789413 \n",
      "\n",
      "[ 7.25718035 13.19932658  3.09120617]\n",
      "[8.60232527 0.81649658 1.41421356] \n",
      "\n",
      "<class 'numpy.ndarray'>\n"
     ]
    }
   ],
   "source": [
    "# Standard Deviation\n",
    "print(b,\"\\n\")\n",
    "print(np.std(b),\"\\n\")\n",
    "print(np.std(b,axis=0))\n",
    "print(np.std(b,axis=1),\"\\n\")\n",
    "print(type(b))"
   ]
  },
  {
   "cell_type": "code",
   "execution_count": 22,
   "id": "687c3122",
   "metadata": {},
   "outputs": [
    {
     "name": "stdout",
     "output_type": "stream",
     "text": [
      "[[20 32 11]\n",
      " [ 3  4  5]\n",
      " [ 7  4  4]] \n",
      "\n",
      "5.0 \n",
      "\n",
      "[7. 4. 5.]\n",
      "[20.  4.  4.] \n",
      "\n",
      "<class 'numpy.ndarray'>\n"
     ]
    }
   ],
   "source": [
    "# Median\n",
    "print(b,\"\\n\")\n",
    "print(np.median(b),\"\\n\")\n",
    "print(np.median(b,axis=0))\n",
    "print(np.median(b,axis=1),\"\\n\")\n",
    "print(type(b))"
   ]
  },
  {
   "cell_type": "code",
   "execution_count": 23,
   "id": "ad079ec3",
   "metadata": {},
   "outputs": [
    {
     "name": "stdout",
     "output_type": "stream",
     "text": [
      "[[20 32 11]\n",
      " [ 3  4  5]\n",
      " [ 7  4  4]] \n",
      "\n",
      "86.22222222222223 \n",
      "\n",
      "[ 52.66666667 174.22222222   9.55555556]\n",
      "[74.          0.66666667  2.        ] \n",
      "\n",
      "<class 'numpy.ndarray'>\n"
     ]
    }
   ],
   "source": [
    "# Variance\n",
    "print(b,\"\\n\")\n",
    "print(np.var(b),\"\\n\")\n",
    "print(np.var(b,axis=0))\n",
    "print(np.var(b,axis=1),\"\\n\")\n",
    "print(type(b))"
   ]
  },
  {
   "cell_type": "code",
   "execution_count": 24,
   "id": "3dcdd14f",
   "metadata": {},
   "outputs": [
    {
     "name": "stdout",
     "output_type": "stream",
     "text": [
      "10.0\n"
     ]
    }
   ],
   "source": [
    "# Weighted Average\n",
    "print(np.average(b))"
   ]
  },
  {
   "cell_type": "code",
   "execution_count": 25,
   "id": "b5e77e7e",
   "metadata": {},
   "outputs": [
    {
     "name": "stdout",
     "output_type": "stream",
     "text": [
      "[2 3 4 1 2 5 6 7 8 8 9 4]\n"
     ]
    }
   ],
   "source": [
    "c = np.array([2,3,4,1,2,5,6,7,8,8,9,4])\n",
    "print(c)"
   ]
  },
  {
   "cell_type": "code",
   "execution_count": 26,
   "id": "7e9038a3",
   "metadata": {},
   "outputs": [
    {
     "name": "stdout",
     "output_type": "stream",
     "text": [
      "[0.12 0.5  0.1  0.12 0.5  0.1  0.12 0.5  0.1  0.12 0.5  0.1 ]\n"
     ]
    }
   ],
   "source": [
    "weight = np.array([0.12,0.5,0.10,0.12,0.5,0.10,0.12,0.5,0.10,0.12,0.5,0.10])\n",
    "print(weight)"
   ]
  },
  {
   "cell_type": "code",
   "execution_count": 27,
   "id": "3a235972",
   "metadata": {},
   "outputs": [
    {
     "name": "stdout",
     "output_type": "stream",
     "text": [
      "5.083333333333332\n"
     ]
    }
   ],
   "source": [
    "print(np.average(c, weights=weight))"
   ]
  },
  {
   "cell_type": "code",
   "execution_count": 28,
   "id": "ef58c599",
   "metadata": {},
   "outputs": [
    {
     "name": "stdout",
     "output_type": "stream",
     "text": [
      "[2 3 4 1 2 5 6 7 8 8 9 4] \n",
      "\n",
      "1.55\n",
      "1.88\n",
      "[11.9  3.1  4. ]\n",
      "[3.4 4.  4.1]\n"
     ]
    }
   ],
   "source": [
    "# Percentile\n",
    "print(c,\"\\n\")\n",
    "print(np.percentile(c,5,0))\n",
    "print(np.percentile(c,8,0))\n",
    "print(np.percentile(b,5,1))\n",
    "print(np.percentile(b,5,0))"
   ]
  },
  {
   "cell_type": "code",
   "execution_count": 29,
   "id": "96905997",
   "metadata": {},
   "outputs": [
    {
     "name": "stdout",
     "output_type": "stream",
     "text": [
      "[[20 32 11]\n",
      " [ 3  4  5]\n",
      " [ 7  4  4]] \n",
      "\n",
      "[2 3 4 1 2 5 6 7 8 8 9 4] \n",
      "\n",
      "8\n",
      "[17 28  7]\n",
      "[21  2  3]\n"
     ]
    }
   ],
   "source": [
    "# Peak to Peak\n",
    "# Max value - Min value\n",
    "print(b,\"\\n\")\n",
    "print(c,\"\\n\")\n",
    "print(np.ptp(c,0))\n",
    "print(np.ptp(b,0))\n",
    "print(np.ptp(b,1))"
   ]
  },
  {
   "cell_type": "code",
   "execution_count": 30,
   "id": "78467b6a",
   "metadata": {},
   "outputs": [
    {
     "name": "stdout",
     "output_type": "stream",
     "text": [
      "[[20 32 11]\n",
      " [ 3  4  5]\n",
      " [ 7  4  4]] \n",
      "\n",
      "(3, 3) \n",
      "\n",
      "[[20 32 11  3  4  5  7  4  4]] \n",
      "\n"
     ]
    }
   ],
   "source": [
    "# Reshaping an array\n",
    "print(b,\"\\n\")\n",
    "print(b.shape,\"\\n\")\n",
    "print(b.reshape(1,9),\"\\n\")"
   ]
  },
  {
   "cell_type": "markdown",
   "id": "2d6ac926",
   "metadata": {},
   "source": [
    "# Slicing"
   ]
  },
  {
   "cell_type": "code",
   "execution_count": 31,
   "id": "1ed26171",
   "metadata": {},
   "outputs": [
    {
     "name": "stdout",
     "output_type": "stream",
     "text": [
      "[12, 34, 56] \n",
      "\n"
     ]
    }
   ],
   "source": [
    "e = [12,34,56,78,90]\n",
    "print(e[0:3],\"\\n\")"
   ]
  },
  {
   "cell_type": "code",
   "execution_count": 32,
   "id": "f8a1e09e",
   "metadata": {},
   "outputs": [
    {
     "name": "stdout",
     "output_type": "stream",
     "text": [
      "[[23 45 67 23]\n",
      " [22 33 44 55]\n",
      " [ 1  2  3  4]]\n"
     ]
    }
   ],
   "source": [
    "# 2D Array\n",
    "l = np.array([[23,45,67,23],[22,33,44,55],[1,2,3,4]])\n",
    "print(l)"
   ]
  },
  {
   "cell_type": "code",
   "execution_count": 33,
   "id": "c44c8373",
   "metadata": {},
   "outputs": [
    {
     "name": "stdout",
     "output_type": "stream",
     "text": [
      "67\n",
      "55\n",
      "[23 55  4]\n",
      "[3 4]\n",
      "[[45 67]\n",
      " [33 44]\n",
      " [ 2  3]]\n"
     ]
    }
   ],
   "source": [
    "print(l[0,2])\n",
    "print(l[1,3])\n",
    "print(l[0:3,3])\n",
    "print(l[-1,2:4])\n",
    "print(l[0:3,1:3])"
   ]
  },
  {
   "cell_type": "markdown",
   "id": "b7befb4e",
   "metadata": {},
   "source": [
    "# Stacking"
   ]
  },
  {
   "cell_type": "code",
   "execution_count": 34,
   "id": "d9406a82",
   "metadata": {},
   "outputs": [
    {
     "name": "stdout",
     "output_type": "stream",
     "text": [
      "[[ 0  1  2  3]\n",
      " [ 4  5  6  7]\n",
      " [ 8  9 10 11]] \n",
      "\n",
      "[[12 13 14 15]\n",
      " [16 17 18 19]\n",
      " [20 21 22 23]]\n"
     ]
    }
   ],
   "source": [
    "d = np.arange(12).reshape(3,4)\n",
    "print(d,\"\\n\")\n",
    "f = np.arange(12,24).reshape(3,4)\n",
    "print(f)"
   ]
  },
  {
   "cell_type": "code",
   "execution_count": 35,
   "id": "da1e78b9",
   "metadata": {},
   "outputs": [
    {
     "name": "stdout",
     "output_type": "stream",
     "text": [
      "[[ 0  1  2  3 12 13 14 15]\n",
      " [ 4  5  6  7 16 17 18 19]\n",
      " [ 8  9 10 11 20 21 22 23]] \n",
      "\n",
      "[[12 13 14 15  0  1  2  3]\n",
      " [16 17 18 19  4  5  6  7]\n",
      " [20 21 22 23  8  9 10 11]] \n",
      "\n"
     ]
    }
   ],
   "source": [
    "print(np.hstack((d,f)),\"\\n\")\n",
    "print(np.hstack((f,d)),'\\n')"
   ]
  },
  {
   "cell_type": "code",
   "execution_count": 36,
   "id": "643356fd",
   "metadata": {},
   "outputs": [
    {
     "name": "stdout",
     "output_type": "stream",
     "text": [
      "[[ 0  1  2  3]\n",
      " [ 4  5  6  7]\n",
      " [ 8  9 10 11]\n",
      " [12 13 14 15]\n",
      " [16 17 18 19]\n",
      " [20 21 22 23]] \n",
      "\n",
      "[[12 13 14 15]\n",
      " [16 17 18 19]\n",
      " [20 21 22 23]\n",
      " [ 0  1  2  3]\n",
      " [ 4  5  6  7]\n",
      " [ 8  9 10 11]] \n",
      "\n"
     ]
    }
   ],
   "source": [
    "print(np.vstack((d,f)),'\\n')\n",
    "print(np.vstack((f,d)),'\\n')"
   ]
  },
  {
   "cell_type": "markdown",
   "id": "6b42c820",
   "metadata": {},
   "source": [
    "# Mathematical Operations"
   ]
  },
  {
   "cell_type": "code",
   "execution_count": 37,
   "id": "25cbb46d",
   "metadata": {},
   "outputs": [],
   "source": [
    "# Simple mathematical operations"
   ]
  },
  {
   "cell_type": "markdown",
   "id": "c99eeef2",
   "metadata": {},
   "source": [
    "# Random Number Generator using numpy"
   ]
  },
  {
   "cell_type": "code",
   "execution_count": 38,
   "id": "a0784ad6",
   "metadata": {},
   "outputs": [
    {
     "name": "stdout",
     "output_type": "stream",
     "text": [
      "82\n"
     ]
    }
   ],
   "source": [
    "from numpy import random\n",
    "x = random.randint(100)\n",
    "print(x)"
   ]
  },
  {
   "cell_type": "code",
   "execution_count": 39,
   "id": "3b9aff92",
   "metadata": {},
   "outputs": [
    {
     "name": "stdout",
     "output_type": "stream",
     "text": [
      "0.03768657637205408\n"
     ]
    }
   ],
   "source": [
    "x = random.rand()\n",
    "print(x)"
   ]
  },
  {
   "cell_type": "code",
   "execution_count": 40,
   "id": "41e48e3c",
   "metadata": {},
   "outputs": [
    {
     "name": "stdout",
     "output_type": "stream",
     "text": [
      "[58 17 30 45 56]\n"
     ]
    }
   ],
   "source": [
    "x = random.randint(100,size=(5))\n",
    "print(x)"
   ]
  },
  {
   "cell_type": "code",
   "execution_count": 41,
   "id": "89c4b570",
   "metadata": {},
   "outputs": [
    {
     "name": "stdout",
     "output_type": "stream",
     "text": [
      "[[61 86 45 40 85]\n",
      " [19  3 59 62  9]\n",
      " [19 20 66 56 35]]\n"
     ]
    }
   ],
   "source": [
    "x = random.randint(100,size=(3,5))\n",
    "print(x)"
   ]
  },
  {
   "cell_type": "markdown",
   "id": "315cdc29",
   "metadata": {},
   "source": [
    "# 2.4 PRACTICAL: Creating scalars in Numpy"
   ]
  },
  {
   "cell_type": "markdown",
   "id": "be8402c9",
   "metadata": {},
   "source": [
    "# 2.5 PRACTICAL: Creating vectors in Numpy"
   ]
  },
  {
   "cell_type": "code",
   "execution_count": 42,
   "id": "15fbd40a",
   "metadata": {},
   "outputs": [],
   "source": [
    "# string \n",
    "# ('1 2; 3 4')"
   ]
  },
  {
   "cell_type": "code",
   "execution_count": 43,
   "id": "ec01541c",
   "metadata": {},
   "outputs": [],
   "source": [
    "# np.dot(max1,max2)"
   ]
  },
  {
   "cell_type": "code",
   "execution_count": null,
   "id": "bf1299c3",
   "metadata": {},
   "outputs": [],
   "source": []
  }
 ],
 "metadata": {
  "kernelspec": {
   "display_name": "Python 3 (ipykernel)",
   "language": "python",
   "name": "python3"
  },
  "language_info": {
   "codemirror_mode": {
    "name": "ipython",
    "version": 3
   },
   "file_extension": ".py",
   "mimetype": "text/x-python",
   "name": "python",
   "nbconvert_exporter": "python",
   "pygments_lexer": "ipython3",
   "version": "3.9.12"
  }
 },
 "nbformat": 4,
 "nbformat_minor": 5
}
